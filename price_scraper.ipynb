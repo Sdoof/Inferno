{
 "cells": [
  {
   "cell_type": "markdown",
   "metadata": {},
   "source": [
    "# Financial information scraper\n",
    "\n",
    ". \n",
    "\n",
    "### Import scraping tools\n",
    "\n",
    "We can use a yahoo finance scraper that I found that I will post in the repo: github.com/lukaszbanasiak/yahoo-finance it can be built from source using the setup.py method (pip seemed to be broken). For now I'm downloading a russell 3000 pdf (www.ftserussell.com/files/support-documents/membership-russell-3000) <- unsure of how stable that URL is, and scraping the tickers from that file using pyPdf (pip install pyPdf)"
   ]
  },
  {
   "cell_type": "code",
   "execution_count": 18,
   "metadata": {
    "collapsed": false
   },
   "outputs": [],
   "source": [
    "import yahoo_finance as yf #for finance data\n",
    "import pyPdf as pp         #for reading pdf\n",
    "import re                  #for regex matching\n",
    "import numpy as np         #for building array\n",
    "from tqdm import tqdm\n",
    "import pickle as pkl"
   ]
  },
  {
   "cell_type": "markdown",
   "metadata": {},
   "source": [
    "### Brief example of yahoo finace package\n",
    "\n",
    "The finance package let's us get a range of data about a specific stock. In addition to getting price data, we can also get some historical data, trading volumes etc."
   ]
  },
  {
   "cell_type": "code",
   "execution_count": 4,
   "metadata": {
    "collapsed": false
   },
   "outputs": [],
   "source": [
    "yahoo = yf.Share(\"FLWS\") #Let's show the big dog some respect and see how the king of fantasy sports is doing"
   ]
  },
  {
   "cell_type": "code",
   "execution_count": 5,
   "metadata": {
    "collapsed": false
   },
   "outputs": [
    {
     "name": "stdout",
     "output_type": "stream",
     "text": [
      "9.39\n"
     ]
    }
   ],
   "source": [
    "print yahoo.get_open() #Todays opening price"
   ]
  },
  {
   "cell_type": "code",
   "execution_count": 6,
   "metadata": {
    "collapsed": false
   },
   "outputs": [
    {
     "name": "stdout",
     "output_type": "stream",
     "text": [
      "8.35\n"
     ]
    }
   ],
   "source": [
    "print yahoo.get_200day_moving_avg() #200 day moving average of stock price"
   ]
  },
  {
   "cell_type": "code",
   "execution_count": 7,
   "metadata": {
    "collapsed": false
   },
   "outputs": [
    {
     "name": "stdout",
     "output_type": "stream",
     "text": [
      "101298\n"
     ]
    }
   ],
   "source": [
    "print yahoo.get_volume() #The daily trade volume"
   ]
  },
  {
   "cell_type": "markdown",
   "metadata": {},
   "source": [
    "## Let's Get Down to Business\n",
    "\n",
    "To defeat. The Huns. Did they send me nonsense, when I asked for tickers?\n",
    "\n",
    "I've pulled a pdf from russells pdf. This was dated on June 27th, 2016. I'm not sure how much they update this (quarterly? As needed?). Either way, we probably don't need many copies of it lieing around, we just want to get up to date tickers data.\n",
    "\n",
    "The workflow for scraping a pdf like this is as follows. First we have to connect a file reader to the pdf using the pyPdf package. Once this connection is open, we can iterate through the pages of the pdf, and extract the text. I've noticed that the pdf has a specific structure we can exploit to match tickers. \n",
    "\n",
    "This structure is dependent on how Russell decides to structure this pdf and so changes they decide to make might break this.\n",
    "\n",
    "Once the raw text is extracted, we can use the pattern to find tickers."
   ]
  },
  {
   "cell_type": "code",
   "execution_count": 8,
   "metadata": {
    "collapsed": true
   },
   "outputs": [],
   "source": [
    "russ = pp.PdfFileReader(open(\"ru3000_membershiplist_20160627.pdf\", \"rb\"))"
   ]
  },
  {
   "cell_type": "code",
   "execution_count": 9,
   "metadata": {
    "collapsed": false
   },
   "outputs": [
    {
     "name": "stderr",
     "output_type": "stream",
     "text": [
      "100%|██████████| 33/33 [00:06<00:00,  5.23it/s]\n"
     ]
    }
   ],
   "source": [
    "ticker_pattern = re.compile(\"\\\\n(\\w\\w?\\w?\\w?)\\s\\s\\s\\s\")\n",
    "tickers = []\n",
    "for page in tqdm(russ.pages):\n",
    "    raw_text = page.extractText()\n",
    "    tickers.extend(ticker_pattern.findall(raw_text))"
   ]
  },
  {
   "cell_type": "markdown",
   "metadata": {},
   "source": [
    "Note the use of extend vs append. Since each call of ticker_pattern.findall() gives a list, if we use the append operator we will end up with a list of lists. Instead by using extend, each list returned by ticker_pattern.findall() is inserted as a continuation of the current list. We can investigate what the results of this call are below."
   ]
  },
  {
   "cell_type": "code",
   "execution_count": 10,
   "metadata": {
    "collapsed": false
   },
   "outputs": [
    {
     "name": "stdout",
     "output_type": "stream",
     "text": [
      "[u'FLWS', u'SRCE', u'FOXA', u'FOX', u'TWOU', u'DDD', u'MMM', u'EGHT', u'AVHI', u'ATEN', u'AAC', u'AAON', u'AIR', u'AAN', u'ABAX', u'ABT', u'ABBV', u'ANF', u'ABMD', u'ABM', u'AXAS', u'ACIA', u'ACTG', u'ACHC', u'ACAD', u'AKR', u'AXDX', u'XLRN', u'ACN', u'ANCX', u'ACCO', u'ARAY', u'ACRX', u'ACET', u'ACHN', u'ACIW', u'ACRS', u'ACNB', u'ACOR', u'ATVI', u'ACTA', u'ATU', u'AYI', u'ACXM', u'ADMS', u'AE', u'ADUS', u'ADPT', u'ADBE', u'ADTN', u'ADRO', u'AAP', u'WMS', u'AEIS', u'AMD', u'ADXS', u'ADVM', u'ABCO', u'ACM', u'AEGN', u'AEPI', u'AERI', u'HIVE', u'AJRD', u'AVAV', u'AES', u'AET', u'AMG', u'AFL', u'MITT', u'AGCO', u'AGEN', u'AGRX', u'A', u'AGYS', u'AGIO', u'GAS', u'ADC', u'AGFS', u'AIMT', u'AL', u'AIRM', u'APD', u'ATSG', u'AYR', u'AKS', u'AKAM', u'AKBA', u'AKRX', u'ALG', u'ALRM', u'ALK', u'AIN', u'AMRI', u'ALB', u'AA', u'ALDR', u'ALR', u'ALEX', u'ALX', u'ARE', u'ALXN', u'ALCO', u'ALGN', u'ALJJ', u'ALKS', u'Y', u'ATI', u'ABTX', u'ALGT', u'ALLE', u'AGN', u'ALE', u'ADS', u'AOI', u'LNT', u'AMOT', u'AWH', u'ALSN', u'MDRX', u'ALL', u'ALLY', u'AFAM', u'ALNY', u'ALJ', u'AOSL', u'GOOG', u'ASPS', u'RESI', u'AIMC', u'MO', u'AMAG', u'AMZN', u'AMBC', u'AMBA', u'AMBR', u'AMC', u'AMCX', u'DOX', u'AMED', u'APEI', u'UHAL', u'AEE', u'AAL', u'AAT', u'AXL', u'ACC', u'MTGE', u'AGNC', u'AEO', u'AEP', u'AEL', u'AXP', u'AFG', u'AMH', u'AMIC', u'AIG', u'ANAT', u'AMNB', u'ARII', u'ARA', u'ASEI', u'AWR', u'AMSC', u'AMT', u'AVD', u'AMWD', u'AWK', u'CRMT', u'AMP', u'ABCB', u'AMSF', u'ABC', u'ATLO', u'AME', u'AMGN', u'FOLD', u'AMKR', u'AHS', u'AP', u'AMPH', u'APH', u'AMPE', u'BETR', u'AMSG', u'AFSI', u'APC', u'ADI', u'ALOG', u'AVXL', u'AMRC', u'ANGI', u'ANGO', u'ANIP', u'ANIK', u'AXE', u'NLY', u'ANSS', u'AR', u'ANTM', u'ANTH', u'ANH', u'AON', u'APA', u'AIV', u'APIC', u'APOG', u'ARI', u'APOL', u'AMTG', u'APPF', u'APLE', u'AAPL', u'AGTC', u'AIT', u'AMAT', u'AMCC', u'AAOI', u'ATR', u'WTR', u'AQMS', u'ARMK', u'PETX', u'ARC', u'ARCB', u'ACGL', u'ADM', u'AROC', u'ACAT', u'ARDX', u'ASC', u'ARNA', u'ACRE', u'AGX', u'AGII', u'ARGS', u'ARIA', u'AI', u'ANDE', u'AFI', u'AWI', u'ARRY', u'ARRS', u'ARW', u'AROW', u'ARWR', u'APAM', u'ANET', u'ABG', u'ASNA', u'AHP', u'AHT', u'ASH', u'AHL', u'AZPN', u'ASB', u'AC', u'AIZ', u'AGO', u'ASTE', u'AST', u'AF', u'ATRO', u'T', u'ATRA', u'ATHN', u'ATHX', u'ACBI', u'AT', u'ABY', u'AAWW', u'AFH', u'TEAM', u'ATO', u'ATNI', u'ATRC', u'ATRI', u'ATW', u'ABTL', u'ADSK', u'ADP', u'AN', u'AZO', u'AVB', u'AHH', u'ARR', u'AVY', u'AVXS', u'AVG', u'AVID', u'AVGR', u'CAR', u'AVA', u'AVT', u'AVP', u'AVX', u'AXTA', u'ACLS', u'AXLL', u'AXS', u'AXGN', u'AXON', u'AXSM', u'AZZ', u'BGS', u'RILY', u'BW', u'BMI', u'BHI', u'BCPC', u'BLL', u'BANC', u'BANF', u'BLX', u'TBBK', u'BXS', u'BKMU', u'BAC', u'BOH', u'BMRC', u'BK', u'OZRK', u'BFIN', u'RATE', u'BKU', u'BWFG', u'BANR', u'BHB', u'BNED', u'BKS', u'B', u'AGR', u'AVNU', u'BAX', u'BV', u'BBT', u'BBCN', u'BBX', u'BEAV', u'BECN', u'BSF', u'BZH', u'BDX', u'BBBY', u'BDC', u'BLCM', u'BEL', u'BMS', u'BHE', u'BNCL', u'BNFT', u'WRB', u'BHLB', u'BERY', u'BBY', u'BGCP', u'BGFV', u'BIG', u'BH', u'BBG', u'BPTH', u'BCRX', u'BIIB', u'BMRN', u'BIO', u'BIOS', u'BSTC', u'TECH', u'BEAT', u'BTX', u'BJRI', u'BBOX', u'BKH', u'BKFS', u'BLKB', u'HAWK', u'BLK', u'CUDA', u'BBSI', u'BSET', u'BLBD', u'BUFF', u'BCRH', u'BHBK', u'NILE', u'BLUE', u'BPMC', u'BRG', u'BMCH', u'BNCN', u'BOBE', u'BA', u'BOFI', u'WIFI', u'BCC', u'BOJA', u'BOKF', u'BOOT', u'BAH', u'BWA', u'SAM', u'BPFH', u'BXP', u'BSX', u'EPAY', u'BOX', u'BYD', u'BRC', u'BDN', u'BDGE', u'BPI', u'BGG', u'BFAM', u'BCOV', u'EAT', u'BCO', u'BMY', u'BRS', u'BRX', u'AVGO', u'BR', u'BSFT', u'BRCD', u'BKD', u'BRKL', u'HRB', u'BLMN', u'BCOR', u'BRKR', u'BC', u'BMTC', u'BLMT', u'BKE', u'BWLD', u'BBW', u'BLDR', u'BG', u'BURL', u'BWXT', u'CFFI', u'CHRW', u'BNK', u'CA', u'CAB', u'CABO', u'CBT', u'CCMP', u'COG', u'CACI', u'CDNS', u'CACQ', u'CZR', u'CSTE', u'CAI', u'CALM', u'CLMS', u'CAMP', u'CAA', u'CVGW', u'CAL', u'CCC', u'CFNB', u'CRC', u'CWT', u'CALX', u'ELY', u'CALD', u'CPE', u'CPN', u'ABCD', u'CBM', u'CAC', u'CPT', u'BRKS', u'BRO', u'CCBG', u'COF', u'CSU', u'CFFN', u'CMO', u'CARA', u'CRR', u'CARB', u'CFNL', u'CAH', u'CSII', u'CATM', u'CCP', u'CRCM', u'CECO', u'CTRE', u'CSL', u'KMX', u'CKEC', u'CCL', u'CARO', u'CRS', u'CSV', u'CRZO', u'TAST', u'CRI', u'CACB', u'CSCD', u'CWST', u'CASY', u'CSH', u'CASS', u'CSLT', u'CTLT', u'CTT', u'CAT', u'CATY', u'CATO', u'CVCO', u'CAVM', u'CBZ', u'CBL', u'CBOE', u'CBG', u'CPB', u'CMN', u'CPLA', u'CBF', u'CDR', u'CGI', u'CE', u'CPXX', u'CELG', u'CLDX', u'CBMG', u'CEMP', u'CNC', u'CNP', u'CSFL', u'CETV', u'CENT', u'CPF', u'CVCY', u'CENX', u'CNTY', u'CCS', u'CTL', u'CPHD', u'CERN', u'CERS', u'CEVA', u'CF', u'ECOM', u'CRL', u'GTLS', u'CHTR', u'CHFN', u'CCF', u'CLDT', u'CAKE', u'CHEF', u'CHGG', u'CHE', u'CHFC', u'CCXI', u'CHMT', u'CHMG', u'LNG', u'CHK', u'CHSP', u'CPK', u'CBS', u'CDK', u'CDW', u'CEB', u'CECE', u'CIM', u'CMRX', u'CMG', u'CHH', u'CDXC', u'CB', u'CHD', u'CHDN', u'CHUY', u'CDTX', u'CIEN', u'CI', u'XEC', u'CMPR', u'CBB', u'CINF', u'CNK', u'CTAS', u'CIR', u'CRUS', u'CSCO', u'CIT', u'CTRN', u'C', u'CZNC', u'CFG', u'CIA', u'CTXS', u'CHCO', u'CIO', u'CIVI', u'CLC', u'CLNE', u'CLH', u'CCO', u'CLFD', u'CLW', u'CLF', u'CSBK', u'CLX', u'CLVS', u'MYCC', u'CME', u'CVX', u'CBI', u'CHS', u'PLCE', u'COBZ', u'COKE', u'KO', u'CDXS', u'CVLY', u'CDE', u'CCOI', u'CGNX', u'CTSH', u'CNS', u'COHR', u'CHRS', u'COHU', u'CFX', u'CL', u'CLCT', u'COLL', u'CLNY', u'SFR', u'COLB', u'CPGX', u'CXP', u'COLM', u'CMCO', u'CMA', u'FIX', u'CSAL', u'CBSH', u'CMC', u'COMM', u'CBU', u'CYH', u'CHCT', u'CTBI', u'COB', u'CVLT', u'CMP', u'CPSI', u'CSC', u'CIX', u'SCOR', u'CMTL', u'CAG', u'CMS', u'CNA', u'CCNE', u'CNO', u'COH', u'CIE', u'CNOB', u'CONN', u'COP', u'CNX', u'CNSL', u'ED', u'CTO', u'CWCO', u'STZ', u'MCF', u'CBPX', u'CLR', u'CTRL', u'CVG', u'COO', u'CPS', u'CTB', u'CPA', u'CPRT', u'CORT', u'CORE', u'CLGX', u'CORR', u'COR', u'CVRS', u'CSOD', u'GLW', u'OFC', u'CXW', u'CRVL', u'CRVS', u'CMRE', u'CSGP', u'COST', u'COTV', u'COTY', u'ICBK', u'CUZ', u'CVA', u'CVTI', u'COWN', u'PMTS', u'CNCE', u'CXO', u'CFMS', u'CNMD', u'CTWS', u'CACC', u'CREE', u'CROX', u'CCRN', u'CCI', u'CCK', u'CRY', u'CSGS', u'CSRA', u'CSS', u'CST', u'CSWI', u'CSX', u'CTS', u'CUNB', u'CUBE', u'CUB', u'CFR', u'CFI', u'CMI', u'CRIS', u'CW', u'CUBI', u'CUTR', u'CVBF', u'CVT', u'CVI', u'CVS', u'CYNO', u'CY', u'CONE', u'CYS', u'CYTK', u'CTMX', u'CYTR', u'DHI', u'DJCO', u'DAKT', u'DAN', u'DHR', u'DRI', u'DAR', u'DTLK', u'BCR', u'CRAI', u'CBRL', u'BREW', u'CR', u'CRAY', u'DECK', u'DE', u'DFRG', u'TACO', u'DK', u'DLPH', u'DAL', u'DLA', u'DGAS', u'DEL', u'DLX', u'DWRE', u'DNR', u'DENN', u'XRAY', u'DEPO', u'DERM', u'DXLG', u'DVN', u'DV', u'DXCM', u'DHX', u'DHT', u'DHIL', u'DO', u'DRII', u'FANG', u'DRH', u'DKS', u'DBD', u'DGII', u'DMRC', u'DLR', u'DGI', u'DDS', u'DCOM', u'DMTX', u'DIN', u'DIOD', u'DPLO', u'DFS', u'PLAY', u'DVA', u'DWSN', u'DCT', u'DDR', u'DF', u'DPZ', u'UFS', u'DCI', u'RRD', u'LPG', u'DORM', u'PLOW', u'DEI', u'DOV', u'DOW', u'DPS', u'DWA', u'DW', u'DRQ', u'DSPG', u'DST', u'DSW', u'DTE', u'DTSI', u'DD', u'DCO', u'DUK', u'DRE', u'DLTH', u'DNB', u'DNKN', u'DFT', u'DRRX', u'DXPE', u'DY', u'BOOM', u'DVAX', u'DYN', u'DX', u'ETFC', u'EGBN', u'EXP', u'EGRX', u'ELNK', u'ESTE', u'EWBC', u'DISH', u'DIS', u'DLB', u'DG', u'DLTR', u'D', u'EBIX', u'ECHO', u'SATS', u'ECR', u'ECL', u'EDGE', u'EPC', u'EIX', u'EDIT', u'EDR', u'EW', u'EGLT', u'EHTH', u'EIGR', u'EE', u'LOCO', u'ERI', u'ELRC', u'ESIO', u'EA', u'EFII', u'RDEN', u'ELLI', u'PERY', u'EMC', u'EMCI', u'EME', u'EMKR', u'EBS', u'EMR', u'EDE', u'NYNY', u'ESRT', u'EIG', u'ENTA', u'ECPG', u'WIRE', u'ENDP', u'ECYT', u'ELGX', u'DEA', u'EGP', u'EMN', u'KODK', u'ETN', u'EV', u'EBAY', u'EBF', u'ENVA', u'NPO', u'ESV', u'ENSG', u'ESGR', u'ENTG', u'ENTL', u'ETM', u'ETR', u'EBTC', u'EFSC', u'EVC', u'ENV', u'EVHC', u'ENZ', u'EOG', u'EPE', u'EPAM', u'EPIQ', u'EPZM', u'PLUS', u'EPR', u'EQT', u'EFX', u'EQIX', u'EQBK', u'EQC', u'ELS', u'EQY', u'EQR', u'ERA', u'ERIE', u'ERN', u'EROS', u'ESCA', u'ESE', u'ESPR', u'ESSA', u'ESND', u'ESNT', u'EIGI', u'ENH', u'EGN', u'ENR', u'WATT', u'ERII', u'ENOC', u'ENS', u'EGL', u'RE', u'ES', u'EVTC', u'EVDY', u'EVH', u'EPM', u'EXA', u'EXAS', u'EXAC', u'EXAM', u'EXAR', u'XCO', u'EXEL', u'EXC', u'EXLS', u'XONE', u'EXPE', u'EXPD', u'EXPO', u'EXPR', u'ESRX', u'STAY', u'EXTN', u'EXR', u'EXTR', u'XOM', u'EZPW', u'FFIV', u'FN', u'FB', u'FDS', u'FICO', u'FCS', u'FMSA', u'FRP', u'FARM', u'FFKT', u'FMNB', u'FPI', u'ESS', u'EL', u'ESL', u'ETH', u'ETSY', u'EEFT', u'EVER', u'EVR', u'FNHC', u'FDX', u'FEIC', u'FCH', u'FOE', u'GSM', u'FGEN', u'FGL', u'FIS', u'LION', u'FRGI', u'FSAM', u'FITB', u'FNGN', u'FISI', u'FNSR', u'FINL', u'FEYE', u'FAF', u'FNLC', u'FBNC', u'FBP', u'BUSE', u'FBIZ', u'FCFS', u'FCBC', u'FCF', u'FCFP', u'FBNK', u'FDC', u'FDEF', u'FFBC', u'THFF', u'FFIN', u'FFNW', u'FFWM', u'FHN', u'FR', u'INBK', u'FARO', u'FAST', u'FFG', u'FBRC', u'FCB', u'AGM', u'FDML', u'FRT', u'FSS', u'FII', u'FRC', u'FSLR', u'FE', u'FMER', u'FISV', u'FIT', u'FIVE', u'FPRX', u'FIVN', u'FBC', u'FLT', u'FLTX', u'FLKS', u'FLXN', u'FLXS', u'FLIR', u'FTK', u'FLO', u'FLS', u'FLDM', u'FLR', u'FFIC', u'FMC', u'FTI', u'FNB', u'FNF', u'FNFV', u'FOGO', u'FL', u'F', u'FOR', u'FORM', u'FORR', u'FTNT', u'FBIO', u'FBHS', u'FET', u'FIBK', u'FLIC', u'FRME', u'FMBH', u'FMBI', u'FNBC', u'FNFG', u'FNWB', u'FPO', u'BEN', u'FSP', u'FRED', u'FCX', u'RAIL', u'FDP', u'FRPT', u'FTR', u'FRO', u'FRPH', u'FTD', u'FCN', u'FCEL', u'FULT', u'FF', u'GK', u'GAIA', u'GCAP', u'GALE', u'AJG', u'GBL', u'GME', u'GLPI', u'GCI', u'GPS', u'GRMN', u'IT', u'GLOG', u'GMT', u'GCP', u'GENC', u'GNRT', u'GNRC', u'BGC', u'GD', u'GE', u'GGP', u'GIS', u'FWRD', u'FOSL', u'FMI', u'FCPT', u'FXCB', u'FOXF', u'FRAN', u'FC', u'FELE', u'FSB', u'FI', u'THRM', u'GPC', u'GNW', u'GEO', u'GEOS', u'GABC', u'GERN', u'GTY', u'ROCK', u'GIMO', u'GIG', u'GILD', u'GBCI', u'GOOD', u'GLT', u'GKOS', u'GBT', u'BRSS', u'ENT', u'GBLI', u'GNL', u'GPN', u'GSOL', u'GWRS', u'GSAT', u'GLOB', u'GMED', u'GLUU', u'GLYC', u'GMS', u'GNC', u'GDDY', u'GOGO', u'GLNG', u'GORO', u'GDEN', u'GS', u'GM', u'GCO', u'GWR', u'GEN', u'GNE', u'GNMK', u'GHDX', u'G', u'GNTX', u'GIII', u'GVA', u'GPK', u'GTN', u'AJX', u'GLDD', u'GXP', u'GSBC', u'GWB', u'GB', u'GNBC', u'GRBK', u'GDOT', u'GPRE', u'GBX', u'GCBC', u'GHL', u'GLRE', u'GEF', u'GRIF', u'GFF', u'GPI', u'GRPN', u'GRUB', u'GTT', u'GBNK', u'GES', u'GUID', u'GWRE', u'GPOR', u'HEES', u'HABT', u'HCKT', u'HAE', u'HAIN', u'HAL', u'HALL', u'HALO', u'HYH', u'GT', u'GPRO', u'GRC', u'GOV', u'GPX', u'GRA', u'GGG', u'GHM', u'GHC', u'GWW', u'GPT', u'LOPE', u'HLIT', u'HRS', u'HSC', u'HIG', u'HAS', u'HTS', u'HVT', u'HE', u'HA', u'HCOM', u'HWKN', u'HAYN', u'FUL', u'HCHC', u'HCA', u'HCI', u'HCP', u'HDS', u'HW', u'HR', u'HCSG', u'HTA', u'HQY', u'HLS', u'HSTM', u'HWAY', u'HTLD', u'HTLF', u'HTWR', u'HL', u'HEI', u'HSII', u'HELE', u'HLX', u'HP', u'HMPR', u'HBHC', u'HNH', u'HBI', u'HAFC', u'HASI', u'THG', u'HDNG', u'HOG', u'HAR', u'HTZ', u'HSKA', u'HES', u'HPE', u'HXL', u'HF', u'HIBB', u'ONE', u'HIW', u'HIL', u'HI', u'HRC', u'HTH', u'HLT', u'HIFS', u'HMSY', u'HNI', u'HFC', u'HOLX', u'HBCP', u'HOMB', u'HD', u'HMST', u'HTBI', u'HON', u'HOFT', u'HMN', u'HBNC', u'HZN', u'HZNP', u'HRL', u'HOS', u'HDP', u'HPT', u'HST', u'HMHC', u'HLI', u'HOV', u'HMTV', u'HNNA', u'JKHY', u'HLF', u'HTBK', u'HCCI', u'HFWA', u'HRTG', u'HEOP', u'MLHR', u'HRTX', u'HT', u'HSY', u'HUN', u'HURC', u'HURN', u'H', u'HY', u'IAC', u'IBKC', u'ICFI', u'ICON', u'ICUI', u'IDA', u'IDRA', u'IEX', u'IDXX', u'IDI', u'IDT', u'IESC', u'RXDX', u'IHS', u'IIVI', u'ITW', u'ILMN', u'IMAX', u'IMMR', u'IMDZ', u'IMGN', u'IMMU', u'IMH', u'IPXL', u'IMPV', u'IMPR', u'IMS', u'INCR', u'SAAS', u'INCY', u'HHC', u'HPQ', u'HRG', u'HSNI', u'HUBG', u'HUBB', u'HUBS', u'HPP', u'HUM', u'HBAN', u'HII', u'IM', u'INGR', u'INWK', u'IPHS', u'IOSP', u'INVA', u'INGN', u'ITEK', u'INOV', u'INO', u'IPHI', u'NSIT', u'INSM', u'NSP', u'IBP', u'IIIN', u'INST', u'PODD', u'INSY', u'IART', u'IDTI', u'INTC', u'IQNT', u'NTLA', u'I', u'IPAR', u'IBKR', u'ININ', u'ICPT', u'ICE', u'IDCC', u'TILE', u'IBOC', u'IGT', u'IP', u'ISCA', u'ICD', u'IHC', u'IRT', u'IBCP', u'INDB', u'IBTX', u'INFN', u'INFI', u'IPCC', u'BLOX', u'III', u'HIFR', u'IR', u'NGVT', u'ISRG', u'IVC', u'INVN', u'SNAK', u'IVZ', u'IVR', u'ITG', u'ISBC', u'IRET', u'ITIC', u'NVTA', u'NVIV', u'IONS', u'IPGP', u'IRMD', u'IRIX', u'IRDM', u'IRBT', u'IRM', u'IRWD', u'ISLE', u'ISRL', u'STAR', u'ITC', u'ITRI', u'ITT', u'IXIA', u'XXIA', u'IXYS', u'JJSF', u'JAX', u'JCOM', u'JBL', u'JACK', u'JEC', u'IPG', u'XENT', u'ISIL', u'IILG', u'IBM', u'INTL', u'IFF', u'ITCI', u'IL', u'SNOW', u'XON', u'INTU', u'JNPR', u'JUNO', u'LRN', u'KTWO', u'KAI', u'KALU', u'KAMN', u'KSU', u'KS', u'KAR', u'KPTI', u'KATE', u'KBH', u'KBR', u'KCG', u'KRNY', u'K', u'KMPR', u'KMT', u'KW', u'KERX', u'KEY', u'KEYS', u'KEYW', u'KFRC', u'KRC', u'KE', u'KBAL', u'KMB', u'KIM', u'KMI', u'KND', u'KEX', u'KIRK', u'KITE', u'JAKK', u'JMBA', u'JRVR', u'JNS', u'JBHT', u'JBLU', u'JIVE', u'JBT', u'JNJ', u'JCI', u'JOUT', u'JONE', u'JLL', u'JOY', u'JPM', u'KRA', u'KTOS', u'KKD', u'KR', u'KRO', u'KVHI', u'LB', u'LLL', u'LJPC', u'LQ', u'LZB', u'LH', u'LADR', u'LTS', u'LSBG', u'LBAI', u'LKFN', u'LRCX', u'LAMR', u'LANC', u'LDR', u'LNDC', u'LE', u'LSTR', u'LCI', u'LPI', u'LVS', u'LHO', u'LSCC', u'LAWS', u'LAYN', u'LAZ', u'LCNB', u'KRG', u'KLAC', u'KLXI', u'KMG', u'KNX', u'KNL', u'KN', u'KSS', u'KONA', u'KOPN', u'KOP', u'KFY', u'KOS', u'LXK', u'LGIH', u'LHCG', u'LBY', u'QVCA', u'LMCA', u'LMCK', u'LPT', u'TAX', u'LOCK', u'LPNT', u'LCUT', u'LFVN', u'LWAY', u'LGND', u'LLY', u'LLNW', u'LMNR', u'LECO', u'LNC', u'LIND', u'LNN', u'LLTC', u'LNKD', u'LBIO', u'LIOX', u'LGF', u'LDRH', u'LEA', u'LTXB', u'LM', u'LEG', u'LDOS', u'LMAT', u'LC', u'TREE', u'LEN', u'LII', u'LUK', u'LVLT', u'LXRX', u'LXP', u'LOXO', u'LPLA', u'LXU', u'LYTS', u'LTC', u'LUB', u'LULU', u'LL', u'LITE', u'LMNX', u'LMOS', u'LDL', u'LYB', u'MTB', u'MHO', u'MCBC', u'MAC', u'CLI', u'MTSI', u'MIC', u'MGNX', u'M', u'SHOO', u'MSG', u'MGLN', u'MHLD', u'MSFG', u'MJCO', u'MBUU', u'MNK', u'MANH', u'MTW', u'LPCN', u'LQDT', u'LAD', u'LFUS', u'LYV', u'LOB', u'LPSN', u'LKQ', u'LMT', u'L', u'LOGM', u'LORL', u'LPX', u'LOW', u'VAC', u'MMC', u'MRTN', u'MLM', u'MRVL', u'MAS', u'MASI', u'DOOR', u'MTZ', u'MA', u'MTDR', u'MTCH', u'MTRN', u'MTRX', u'MATX', u'MAT', u'MATW', u'MFRM', u'MXIM', u'MMS', u'MXL', u'MXWL', u'MBFI', u'MBI', u'MBTF', u'MCFT', u'MKC', u'MDR', u'MCD', u'MGRC', u'MCK', u'MDCA', u'MDC', u'MDU', u'MFS', u'MN', u'MNKD', u'MAN', u'MANT', u'MRO', u'MPC', u'MCHX', u'MMI', u'MCS', u'MPX', u'HZO', u'MKL', u'MKTX', u'MKTO', u'MRLN', u'MAR', u'MBWM', u'MBVT', u'MRK', u'MCY', u'MRCY', u'MDP', u'EBSB', u'VIVO', u'MMSI', u'MTH', u'MTOR', u'MACK', u'MLAB', u'CASH', u'MPG', u'MEI', u'MET', u'MTD', u'MFA', u'MGEE', u'MTG', u'MGM', u'MGPI', u'KORS', u'MIK', u'MCHP', u'MU', u'MSCC', u'MSFT', u'MSTR', u'MAA', u'MJN', u'MDGN', u'MEG', u'MPW', u'MDCO', u'MNOV', u'MDSO', u'MED', u'MDVN', u'MDLY', u'MD', u'MDT', u'MEET', u'MRD', u'MENT', u'MOD', u'MC', u'MHK', u'MOH', u'TAP', u'MNTA', u'MCRI', u'MDLZ', u'MGI', u'MNR', u'MORE', u'MPWR', u'TYPE', u'MNRO', u'MON', u'MNST', u'MWW', u'MCO', u'MS', u'MORN', u'MOS', u'MPAA', u'MSI', u'MOV', u'MRC', u'MSA', u'MSM', u'MSCI', u'MSGN', u'MTSC', u'MLI', u'MWA', u'MBRG', u'MIDD', u'MSEX', u'MSBI', u'MOFG', u'MCRN', u'MLR', u'MDXG', u'MB', u'MTX', u'NERV', u'MRTX', u'MG', u'MITK', u'MKSI', u'MINI', u'MOBL', u'MODN', u'NDAQ', u'NTRA', u'NATH', u'NBHC', u'NKSH', u'FIZZ', u'NCMI', u'NCOM', u'NFG', u'NGHC', u'NHI', u'NHC', u'NATI', u'NATL', u'NOV', u'NPK', u'NNN', u'NSA', u'NWLI', u'NSM', u'NGS', u'NGVC', u'NHTC', u'NATR', u'BABY', u'NLS', u'NAVI', u'NCI', u'NAVG', u'LABL', u'MPSX', u'MFLX', u'MUR', u'MUSA', u'MFSF', u'MYE', u'MYL', u'MYOK', u'MYRG', u'MYGN', u'NBR', u'NC', u'NANO', u'NSTG', u'NK', u'NBIX', u'NSR', u'NVRO', u'NWHM', u'NJR', u'NEWM', u'NEWR', u'NRZ', u'SNR', u'NYCB', u'NYMT', u'NYRT', u'NYT', u'NWL', u'NFX', u'NLNK', u'NEU', u'NEM', u'NR', u'NWSA', u'NWS', u'NEWS', u'NXRT', u'NXST', u'NEE', u'EGOV', u'NCBS', u'NLSN', u'NIHD', u'NKE', u'NMBL', u'NI', u'NNA', u'NAV', u'NBTB', u'NCS', u'NCIT', u'NCR', u'NP', u'NEFF', u'NKTR', u'NNI', u'NEOG', u'NEO', u'NPTN', u'NEOS', u'NTAP', u'NFLX', u'NTGR', u'NTCT', u'N', u'NSAM', u'NRE', u'NRF', u'NWBI', u'NWN', u'NWE', u'NCLH', u'NOVT', u'NVAX', u'NVCR', u'DNOW', u'NRG', u'NYLD', u'NUS', u'NUAN', u'NUE', u'NMRX', u'NUTR', u'NTRI', u'NUVA', u'NVEE', u'NVEC', u'NVDA', u'NVR', u'NXTM', u'ORLY', u'OAS', u'OXY', u'NL', u'NMIH', u'NNBR', u'HLTH', u'NE', u'NBL', u'NDLS', u'NAT', u'NDSN', u'JWN', u'NSC', u'NTK', u'NOG', u'NTRS', u'NFBK', u'NRIM', u'NOC', u'OHI', u'OME', u'OMER', u'OMCL', u'OMC', u'OMN', u'ASGN', u'ONDK', u'ON', u'OMED', u'OGS', u'OLP', u'OB', u'OMF', u'OKE', u'OPHT', u'OPK', u'OPY', u'OPB', u'ORCL', u'OSUR', u'ORBC', u'OA', u'ORC', u'TIS', u'ONVO', u'ORN', u'ORIT', u'ORA', u'ORRF', u'OFIX', u'OII', u'OCFC', u'OCLR', u'OCUL', u'OCN', u'ODP', u'OFG', u'OGE', u'ODC', u'OIS', u'ODFL', u'OLBK', u'ONB', u'ORI', u'OSBC', u'OLN', u'OLLI', u'ZEUS', u'OMAM', u'OFLX', u'PCAR', u'PACB', u'PCBK', u'PEIX', u'PMBC', u'PPBI', u'PCRX', u'PKG', u'PACW', u'PANW', u'P', u'PNRA', u'PHX', u'PZZA', u'PARR', u'PGRE', u'PRTK', u'PRXL', u'PCYG', u'PKE', u'PRK', u'PKOH', u'PSTB', u'PKD', u'PH', u'PKY', u'PE', u'PRTY', u'OSK', u'OSIS', u'OSIR', u'OTIC', u'OTTR', u'OUTR', u'OUT', u'OVAS', u'OSG', u'OSTK', u'OMI', u'OC', u'OI', u'ORM', u'OXFD', u'OXM', u'PTSI', u'PCCC', u'PFSI', u'PMT', u'PAG', u'PNR', u'PEN', u'PEBO', u'PFIS', u'PBCT', u'PUB', u'PEP', u'PRFT', u'PFGC', u'PSG', u'PKI', u'PRGO', u'PETS', u'PFNX', u'PFE', u'PFSW', u'PCG', u'PGTI', u'PIP', u'PMC', u'PHH', u'PAHC', u'PM', u'PSX', u'PLAB', u'DOC', u'PATK', u'PN', u'PEGI', u'PDCO', u'PTEN', u'PAYX', u'PAYC', u'PCTY', u'PYPL', u'PBF', u'PDCE', u'PDFS', u'PDLI', u'PDVW', u'PGC', u'PEB', u'PEGA', u'PENN', u'JCP', u'PWOD', u'PEI', u'PLUG', u'PGEM', u'PNC', u'PNM', u'PII', u'PLCM', u'POL', u'POOL', u'PLKI', u'BPOP', u'POR', u'PTLA', u'POST', u'PPS', u'PBPB', u'PCH', u'POWL', u'POWI', u'PSIX', u'PPG', u'PPL', u'PRAA', u'PRAH', u'PX', u'APTS', u'PFBC', u'PLPC', u'PICO', u'PNY', u'PDM', u'PIR', u'PPC', u'PNK', u'PNFP', u'PF', u'PNW', u'PES', u'PXD', u'PJC', u'PBI', u'PJT', u'PLNT', u'PLPM', u'PLT', u'PAH', u'PLXS', u'PRLB', u'PRSC', u'PVBC', u'PFS', u'PROV', u'PRU', u'PSB', u'PTC', u'PTCT', u'PSA', u'PEG', u'PHM', u'PBYI', u'PSTG', u'PVH', u'PZN', u'QTWO', u'QADA', u'QCRH', u'QEP', u'QGEN', u'QLIK', u'QLGC', u'QRVO', u'QTS', u'QUAD', u'KWR', u'QCOM', u'QSII', u'PFBI', u'PINC', u'PGND', u'PBH', u'TROW', u'PSMT', u'PRI', u'PRMW', u'PRIM', u'PFG', u'PVTB', u'PRA', u'PG', u'PGNX', u'PRGS', u'PGR', u'PLD', u'PFPT', u'PRO', u'PB', u'PTI', u'PRTA', u'RPT', u'RRC', u'RPD', u'RPTP', u'RAVN', u'RJF', u'RYAM', u'RYN', u'RTN', u'ROLL', u'RMAX', u'RDI', u'RELY', u'RNWK', u'RLGY', u'RP', u'O', u'RETA', u'RHT', u'RLH', u'RRGB', u'RRR', u'RWT', u'RBC', u'RGC', u'REG', u'QLYS', u'NX', u'PWR', u'DGX', u'STR', u'QDEL', u'QNST', u'Q', u'QHC', u'QUOT', u'RAX', u'RDN', u'RLGT', u'RSYS', u'RDUS', u'RDNT', u'RAS', u'RL', u'RMBS', u'ROIC', u'RPAI', u'SALE', u'RTRX', u'RVNC', u'REV', u'REX', u'REXR', u'RXN', u'RAI', u'RICE', u'RIGL', u'NAME', u'RNET', u'REI', u'RNG', u'RAD', u'RLI', u'RLJ', u'RMR', u'RRTS', u'RHI', u'ROK', u'COL', u'RMTI', u'RSTI', u'ROG', u'ROL', u'REGN', u'RGNX', u'RM', u'RF', u'RGS', u'RGLS', u'RGA', u'REIS', u'RS', u'RLYP', u'RNR', u'RNST', u'REGI', u'RCII', u'RGEN', u'FRBK', u'RSG', u'RMD', u'REXI', u'RSO', u'RECN', u'RH', u'RHP', u'STBA', u'SPGI', u'SBRA', u'SABR', u'SFE', u'SAFT', u'SGA', u'SAGE', u'SGNT', u'SAIA', u'SALM', u'CRM', u'SBH', u'SN', u'SAFM', u'SASR', u'JBSS', u'SGMO', u'SANM', u'SC', u'SPNS', u'SRPT', u'BFS', u'SBAC', u'ROP', u'RST', u'ROST', u'RSE', u'ROVI', u'RDC', u'RCL', u'RGLD', u'RES', u'RPM', u'RPXC', u'RSPP', u'RTIX', u'RUBI', u'RT', u'RTEC', u'RUTH', u'R', u'RYI', u'SHOS', u'SGEN', u'SEAS', u'EYES', u'SCWX', u'SEIC', u'SCSS', u'SIR', u'SEM', u'SIGI', u'SEMG', u'SRE', u'SMTC', u'SNH', u'SENS', u'SXT', u'SQBG', u'MCRB', u'SRG', u'SCI', u'SERV', u'NOW', u'SREV', u'SFBS', u'SHAK', u'SHEN', u'SHW', u'SCG', u'SCSC', u'HSIC', u'SLB', u'SCHN', u'SCHL', u'SHLM', u'SCHW', u'SWM', u'SCLN', u'SAIC', u'SGMS', u'SQI', u'SALT', u'STNG', u'SMG', u'SSP', u'SNI', u'SEB', u'SBCF', u'CKH', u'SDRL', u'SEE', u'SHLD', u'SBGI', u'SIRI', u'SITE', u'SIX', u'SJW', u'SKX', u'SKYW', u'SWKS', u'SLG', u'SLM', u'SM', u'SFS', u'SWHC', u'AOS', u'SJM', u'SNA', u'LNCE', u'SCTY', u'SAH', u'SONC', u'SON', u'SONS', u'SRNE', u'BID', u'SFL', u'SCVL', u'SHBI', u'SHOR', u'SFLY', u'SSTK', u'SIFI', u'BSRR', u'SIGM', u'SBNY', u'SIG', u'SLGN', u'SILC', u'SGI', u'SLAB', u'SBY', u'SSNI', u'SAMG', u'SFNC', u'SPG', u'SSD', u'SPR', u'SAVE', u'SRC', u'SPLK', u'SPOK', u'SPWH', u'S', u'SFM', u'SPSC', u'SPXC', u'FLOW', u'SQ', u'SSNC', u'JOE', u'STJ', u'STAA', u'STAG', u'SSI', u'STMP', u'SMP', u'SXI', u'SWK', u'SPLS', u'SBUX', u'HOT', u'STWD', u'SJI', u'SSB', u'SO', u'SCCO', u'SFST', u'SMBC', u'SONA', u'SBSI', u'LUV', u'OKSB', u'SWX', u'SWN', u'SSS', u'SP', u'SPKE', u'ONCE', u'SPAR', u'SPTN', u'SPA', u'SE', u'SPNC', u'SPB', u'SPPI', u'TRK', u'SR', u'STRA', u'SYK', u'RGR', u'SCMP', u'SCNB', u'SMMF', u'INN', u'SUM', u'SNBC', u'SUI', u'SNHY', u'SXC', u'SPWR', u'RUN', u'SHO', u'STI', u'SMCI', u'SPN', u'SUP', u'SGC', u'SUPN', u'SVU', u'STS', u'STFC', u'STBZ', u'SNC', u'STT', u'STLD', u'SCS', u'SMRT', u'STML', u'SCL', u'SRCL', u'STL', u'STC', u'SF', u'SWC', u'SYBT', u'SGBK', u'SRI', u'STOR', u'STRP', u'SSYS', u'STRT', u'STRS', u'TLRD', u'TTWO', u'TAL', u'TLN', u'TLMR', u'TNDM', u'SKT', u'TNGO', u'TRGP', u'TGT', u'TASR', u'TCO', u'TMHC', u'TCB', u'AMTD', u'TMH', u'TISI', u'TECD', u'TTGT', u'TE', u'TK', u'TNK', u'TGNA', u'TRC', u'TDOC', u'TDY', u'SGRY', u'SCAI', u'SRDX', u'SIVB', u'SWFT', u'SYKE', u'SYMC', u'SSRG', u'SYNA', u'SNCR', u'SYF', u'SNDX', u'SGYP', u'SYRG', u'SNX', u'SNPS', u'SNV', u'SYNT', u'SYN', u'SYUT', u'SYY', u'SYX', u'TTOO', u'DATA', u'TAHO', u'TTI', u'TTPH', u'TCBI', u'TXN', u'TXRH', u'TGH', u'TXT', u'TFSL', u'TGTX', u'CC', u'TCS', u'KHC', u'PCLN', u'WEN', u'TXMD', u'TBPH', u'TMO', u'THR', u'TPRE', u'TRI', u'THO', u'TDW', u'TIER', u'TFX', u'TNAV', u'TDS', u'TTEC', u'TLGT', u'TPX', u'THC', u'TNC', u'TEN', u'TDC', u'TER', u'TEX', u'GLBL', u'TERP', u'TVIA', u'TRNO', u'TBNK', u'TSRO', u'TESO', u'TSLA', u'TSO', u'TSRA', u'TTEK', u'TDG', u'TRXC', u'RIG', u'TRU', u'TRV', u'TVPT', u'TRR', u'TREC', u'TG', u'THS', u'TRVN', u'TREX', u'TPH', u'TRCO', u'TCBK', u'TRS', u'TRMB', u'TNET', u'TRN', u'TPHS', u'TSE', u'TRIP', u'GTS', u'TSC', u'TBK', u'TIF', u'TTS', u'TLYS', u'TIME', u'TWX', u'TKR', u'TMST', u'TIPT', u'TWI', u'TITN', u'TTNP', u'TIVO', u'TJX', u'TMUS', u'TBRA', u'TKAI', u'TOL', u'TMP', u'TR', u'BLD', u'TMK', u'TTC', u'TSS', u'TOWR', u'TOWN', u'TSQ', u'TSCO', u'SLCA', u'UBNT', u'UCP', u'UDR', u'UFPT', u'UGI', u'ULTA', u'ULTI', u'UCTT', u'RARE', u'UTEK', u'UMBF', u'UMH', u'UMPQ', u'UA', u'UFI', u'UNF', u'UBSH', u'UNB', u'UNP', u'TGI', u'TRNC', u'TROX', u'TROV', u'TBI', u'TRUE', u'TRUP', u'TRST', u'TRMK', u'TTMI', u'TUBE', u'TUES', u'TUMI', u'TUP', u'TPB', u'TPC', u'TWTR', u'TWO', u'TYC', u'TYL', u'TSN', u'USCR', u'USG', u'USPH', u'UHS', u'UVE', u'ULH', u'UVSP', u'UNM', u'UE', u'URBN', u'UBA', u'USB', u'ECOL', u'USFD', u'USAT', u'USAK', u'USNA', u'USMD', u'UTMD', u'VFC', u'MTN', u'VLO', u'VHI', u'VR', u'VLY', u'VMI', u'VAL', u'UFAB', u'UIS', u'UNT', u'UBSI', u'UCFC', u'UCBI', u'UAL', u'UBNK', u'UFCS', u'UIHC', u'UNFI', u'UNTD', u'UPS', u'URI', u'USM', u'USLM', u'X', u'UTX', u'UTHR', u'UNH', u'UTL', u'UNVR', u'UAM', u'UVV', u'OLED', u'UEIC', u'UFPI', u'UHT', u'VRTX', u'VIA', u'VIAB', u'VVI', u'VSAT', u'VIAV', u'VICR', u'VRAY', u'VNCE', u'VA', u'VHC', u'VIRT', u'VRTS', u'VRTU', u'V', u'VSH', u'VPG', u'VSTO', u'VC', u'VALU', u'VNDA', u'VNTV', u'VAR', u'VRNS', u'VDSI', u'VASC', u'WOOF', u'VGR', u'VVC', u'VEC', u'VECO', u'VEEV', u'VTR', u'VRA', u'VCYT', u'VER', u'PAY', u'VRNT', u'VRSN', u'VRSK', u'VBTX', u'VRTV', u'VZ', u'VSAR', u'WM', u'WAT', u'WSBF', u'WSO', u'WTS', u'WVE', u'W', u'WCIC', u'WDFC', u'WFT', u'WEB', u'WBMD', u'WBS', u'WEC', u'WTW', u'WRI', u'WMK', u'WCG', u'WFC', u'HCN', u'WERN', u'WSBC', u'WAIR', u'VTAE', u'VTL', u'VSI', u'VSLR', u'VMW', u'VCRA', u'VG', u'VNO', u'VOYA', u'VYGR', u'VSEC', u'VTVT', u'VMC', u'VWR', u'WPC', u'WTI', u'WNC', u'WBC', u'WAB', u'WDR', u'WAGE', u'WMT', u'WBA', u'WD', u'WAC', u'WAFD', u'WRE', u'WASH', u'WFBI', u'WFM', u'WG', u'WLH', u'CWEI', u'WMB', u'WSM', u'WLFC', u'WIBC', u'WIN', u'WING', u'WINA', u'WGO', u'WINS', u'WTFC', u'WETF', u'WMIH', u'WWW', u'WWD', u'WCC', u'WTBA', u'WSTC', u'WMAR', u'WST', u'WABC', u'WR', u'WAL', u'WMC', u'WDC', u'WNR', u'WU', u'WFD', u'WLK', u'WLB', u'WRK', u'WHG', u'WEX', u'WEYS', u'WY', u'WGL', u'WHR', u'WTM', u'WSR', u'WWAV', u'WLL', u'YORW', u'YCB', u'YRCW', u'YUM', u'ZFGN', u'ZAGG', u'ZAYO', u'ZBRA', u'ZLTQ', u'ZEN', u'ZG', u'Z', u'ZBH', u'ZION', u'ZIOP', u'ZIXI', u'ZOES', u'ZTS', u'ZGNX', u'ZUMZ', u'ZNGA', u'WDAY', u'WKHS', u'WK', u'WRLD', u'INT', u'WWE', u'WOR', u'WPG', u'WPX', u'WMGI', u'WSFS', u'WYN', u'WYNN', u'XTLY', u'XBIT', u'XEL', u'XCRA', u'XNCR', u'XHR', u'XNPT', u'XRX', u'XLNX', u'XL', u'XOXO', u'XPO', u'MESG', u'XYL', u'YDKN', u'YHOO', u'YELP']\n"
     ]
    }
   ],
   "source": [
    "print tickers"
   ]
  },
  {
   "cell_type": "markdown",
   "metadata": {},
   "source": [
    "Ticker idea for flame capital: LGTM because that Looks Good to Me, baby!!!\n",
    "\n",
    "## Scraping Open and Close from a date range\n",
    "\n",
    "Now that we have a set of tickers, we can iterate through the tickers (and try our hardest not get banhammered by yahoo) to get historical data.\n",
    "\n",
    "First we're going to set dates. In a script setting, we can probably set these as input options to the script."
   ]
  },
  {
   "cell_type": "code",
   "execution_count": 15,
   "metadata": {
    "collapsed": true
   },
   "outputs": [],
   "source": [
    "start_date = '2015-09-03' \n",
    "end_date = '2016-09-03'       "
   ]
  },
  {
   "cell_type": "markdown",
   "metadata": {},
   "source": [
    "For each ticker, we can take the historical data and store results in a list. This time we are using append, to maintain the list structure. This seems to take a while to run."
   ]
  },
  {
   "cell_type": "code",
   "execution_count": 16,
   "metadata": {
    "collapsed": false
   },
   "outputs": [
    {
     "name": "stderr",
     "output_type": "stream",
     "text": [
      "100%|██████████| 2964/2964 [2:30:12<00:00,  2.77s/it]\n"
     ]
    }
   ],
   "source": [
    "ticker_pricedata_raw = []\n",
    "ticker_metadata_raw = []\n",
    "failed_tickers = []\n",
    "for tick in tqdm(tickers):\n",
    "    ticker_reader = yf.Share(tick)\n",
    "    try:\n",
    "        ticker_pricedata_raw.append(ticker_reader.get_historical(start_date, \n",
    "                                                             end_date))\n",
    "        ticker_metadata_raw.append(ticker_reader.get_info())\n",
    "    except:\n",
    "        ticker_pricedata_raw.append([])\n",
    "        ticker_metadata_raw.append([])\n",
    "        failed_tickers.append(tick)"
   ]
  },
  {
   "cell_type": "code",
   "execution_count": 21,
   "metadata": {
    "collapsed": true
   },
   "outputs": [],
   "source": [
    "save_data = open('20160903_20150903_Rus3000.pkl', 'wb')\n",
    "pkl.dump(ticker_pricedata_raw, save_data)\n",
    "save_data.close()"
   ]
  },
  {
   "cell_type": "code",
   "execution_count": 24,
   "metadata": {
    "collapsed": false
   },
   "outputs": [],
   "source": [
    "save_data = open('20160627_Rus3000_meta.pkl', 'wb')\n",
    "pkl.dump(ticker_metadata_raw, save_data)\n",
    "save_data.close()"
   ]
  },
  {
   "cell_type": "code",
   "execution_count": null,
   "metadata": {
    "collapsed": true
   },
   "outputs": [],
   "source": []
  }
 ],
 "metadata": {
  "kernelspec": {
   "display_name": "Python 2",
   "language": "python",
   "name": "python2"
  },
  "language_info": {
   "codemirror_mode": {
    "name": "ipython",
    "version": 2
   },
   "file_extension": ".py",
   "mimetype": "text/x-python",
   "name": "python",
   "nbconvert_exporter": "python",
   "pygments_lexer": "ipython2",
   "version": "2.7.12"
  }
 },
 "nbformat": 4,
 "nbformat_minor": 0
}
